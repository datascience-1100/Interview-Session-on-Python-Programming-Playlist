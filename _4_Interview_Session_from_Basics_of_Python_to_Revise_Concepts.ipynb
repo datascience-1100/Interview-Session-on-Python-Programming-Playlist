{
  "nbformat": 4,
  "nbformat_minor": 0,
  "metadata": {
    "colab": {
      "provenance": [],
      "authorship_tag": "ABX9TyOHXVZ9a+L4YL7L746uQnYg",
      "include_colab_link": true
    },
    "kernelspec": {
      "name": "python3",
      "display_name": "Python 3"
    },
    "language_info": {
      "name": "python"
    }
  },
  "cells": [
    {
      "cell_type": "markdown",
      "metadata": {
        "id": "view-in-github",
        "colab_type": "text"
      },
      "source": [
        "<a href=\"https://colab.research.google.com/github/datascience-1100/Interview-Session-on-Python-Programming-Playlist/blob/main/_4_Interview_Session_from_Basics_of_Python_to_Revise_Concepts.ipynb\" target=\"_parent\"><img src=\"https://colab.research.google.com/assets/colab-badge.svg\" alt=\"Open In Colab\"/></a>"
      ]
    },
    {
      "cell_type": "markdown",
      "source": [
        "1. Variables\n",
        "2. Data types- int, string, float, bool, Function, String\n",
        "3. Operators\n",
        "4. if-else statement\n",
        "3. Loops- For, While\n",
        "6. Strings\n",
        "7. Functions"
      ],
      "metadata": {
        "id": "MZC0g-e90yK3"
      }
    },
    {
      "cell_type": "code",
      "source": [
        "a=[2,4,6,7]\n",
        "for i in a:\n",
        "   print(i, end= ',')"
      ],
      "metadata": {
        "id": "WjUeOcj80xBg",
        "colab": {
          "base_uri": "https://localhost:8080/"
        },
        "outputId": "baf06c0f-29e7-4449-f649-41e18ab97692"
      },
      "execution_count": null,
      "outputs": [
        {
          "output_type": "stream",
          "name": "stdout",
          "text": [
            "2,4,6,7,"
          ]
        }
      ]
    },
    {
      "cell_type": "code",
      "source": [
        "a=[2,4,6,7]\n",
        "for i in a:\n",
        "   print(i, end= '/')"
      ],
      "metadata": {
        "colab": {
          "base_uri": "https://localhost:8080/"
        },
        "id": "nm4UI7w5IrCL",
        "outputId": "e443cb6b-ec86-4902-9457-aca8a28eefc2"
      },
      "execution_count": null,
      "outputs": [
        {
          "output_type": "stream",
          "name": "stdout",
          "text": [
            "2/4/6/7/"
          ]
        }
      ]
    },
    {
      "cell_type": "code",
      "source": [
        "a=[2,4,6,7]\n",
        "for i in a:\n",
        "   print(i, end= '-')"
      ],
      "metadata": {
        "colab": {
          "base_uri": "https://localhost:8080/"
        },
        "id": "0F_Dex8BIspk",
        "outputId": "e4905f90-ae1a-4a24-da89-233006459bff"
      },
      "execution_count": null,
      "outputs": [
        {
          "output_type": "stream",
          "name": "stdout",
          "text": [
            "2-4-6-7-"
          ]
        }
      ]
    },
    {
      "cell_type": "code",
      "source": [
        "day= 12\n",
        "month=12\n",
        "year=2024\n",
        "print(day, month, year, sep='/')\n"
      ],
      "metadata": {
        "colab": {
          "base_uri": "https://localhost:8080/"
        },
        "id": "KTdLbk_nWCLe",
        "outputId": "7098984f-8b51-49bd-b81f-2636aa50e21e"
      },
      "execution_count": null,
      "outputs": [
        {
          "output_type": "stream",
          "name": "stdout",
          "text": [
            "12/12/2024\n"
          ]
        }
      ]
    },
    {
      "cell_type": "code",
      "source": [
        "#To swap two variablees\n",
        "x=2\n",
        "y=3\n",
        "x=x+y\n",
        "y=x-y\n",
        "x=x-y\n",
        "print(x)\n",
        "print(y)"
      ],
      "metadata": {
        "id": "qGqDVJlbFXc_"
      },
      "execution_count": null,
      "outputs": []
    },
    {
      "cell_type": "code",
      "source": [
        "x,y=2,3\n",
        "y,x=x,y\n",
        "print('x is ',x)\n",
        "print('y is ',y)"
      ],
      "metadata": {
        "colab": {
          "base_uri": "https://localhost:8080/"
        },
        "id": "dBg9Xy-egQHv",
        "outputId": "01dbbf17-02a5-4cc2-dba1-e2529bd2b77c"
      },
      "execution_count": null,
      "outputs": [
        {
          "output_type": "stream",
          "name": "stdout",
          "text": [
            "x is  3\n",
            "y is  2\n"
          ]
        }
      ]
    },
    {
      "cell_type": "code",
      "source": [
        "b= [-10,-15,60,-90, -56]\n",
        "for a in b:\n",
        "   print(abs(a))"
      ],
      "metadata": {
        "colab": {
          "base_uri": "https://localhost:8080/"
        },
        "id": "6QVDOAMQk1JI",
        "outputId": "5a48210f-0e7e-43bf-bf68-f05dbd95a13e"
      },
      "execution_count": null,
      "outputs": [
        {
          "output_type": "stream",
          "name": "stdout",
          "text": [
            "10\n",
            "15\n",
            "60\n",
            "90\n",
            "56\n"
          ]
        }
      ]
    },
    {
      "cell_type": "code",
      "source": [
        "#What will be the outputs of the following programs??\n",
        "\n",
        "my_string = \"Hello World\"\n",
        "for char in my_string:\n",
        "    if char == \"W\":\n",
        "        break\n",
        "    print(char)\n",
        "\n",
        "\n",
        "my_string = \"Hello World\"\n",
        "for char in my_string:\n",
        "    if char == \"W\":\n",
        "        continue\n",
        "    print(char)"
      ],
      "metadata": {
        "id": "0HMZetw-yXGC",
        "colab": {
          "base_uri": "https://localhost:8080/"
        },
        "outputId": "7b3ff232-6f18-451c-833d-53d5bd8fa6e9"
      },
      "execution_count": null,
      "outputs": [
        {
          "output_type": "stream",
          "name": "stdout",
          "text": [
            "H\n",
            "e\n",
            "l\n",
            "l\n",
            "o\n",
            " \n",
            "H\n",
            "e\n",
            "l\n",
            "l\n",
            "o\n",
            " \n",
            "o\n",
            "r\n",
            "l\n",
            "d\n"
          ]
        }
      ]
    },
    {
      "cell_type": "code",
      "source": [
        "result = 10 + 5 * 2\n",
        "print(result)\n",
        "\n",
        "result = (10 + 5) * 2\n",
        "print(result)\n",
        "\n",
        "result = 10 + 5 / 2\n",
        "print(result)\n",
        "\n",
        "result = (10 + 5) / 2\n",
        "print(result)\n",
        "#Operator Precedecence- 1.parenthesis, mul/div, add/sub"
      ],
      "metadata": {
        "colab": {
          "base_uri": "https://localhost:8080/"
        },
        "id": "aLRhWRaSBxsh",
        "outputId": "852fbec2-9f8e-4a5a-90ca-879ec71b2605"
      },
      "execution_count": null,
      "outputs": [
        {
          "output_type": "stream",
          "name": "stdout",
          "text": [
            "20\n",
            "30\n",
            "12.5\n",
            "7.5\n"
          ]
        }
      ]
    },
    {
      "cell_type": "code",
      "source": [
        "result = 5 > 3 + 2\n",
        "print(result)\n",
        "\n",
        "result = (5 > 3) + 2\n",
        "print(result)\n",
        "\n",
        "result = 5 > (3 + 2)\n",
        "print(result)\n",
        "#Precedence rule- parenthesis, comparison"
      ],
      "metadata": {
        "colab": {
          "base_uri": "https://localhost:8080/"
        },
        "id": "oHMMXRM7B0Bp",
        "outputId": "87c53a0b-044a-4913-b77b-968a618fe81a"
      },
      "execution_count": null,
      "outputs": [
        {
          "output_type": "stream",
          "name": "stdout",
          "text": [
            "False\n",
            "3\n",
            "False\n"
          ]
        }
      ]
    },
    {
      "cell_type": "code",
      "source": [
        "x = True\n",
        "y = False\n",
        "z = True\n",
        "\n",
        "result = x and y or z\n",
        "print(result)\n",
        "\n",
        "result = x and (y or z)\n",
        "print(result)\n",
        "\n",
        "result = (x and y) or z\n",
        "print(result)\n"
      ],
      "metadata": {
        "colab": {
          "base_uri": "https://localhost:8080/"
        },
        "id": "wRQ29z4RB27K",
        "outputId": "27a9ac26-67c8-42af-c24d-72172674968a"
      },
      "execution_count": null,
      "outputs": [
        {
          "output_type": "stream",
          "name": "stdout",
          "text": [
            "True\n",
            "True\n",
            "True\n"
          ]
        }
      ]
    },
    {
      "cell_type": "code",
      "source": [
        "#What is PEP 8?\n",
        "https://peps.python.org/pep-0008/"
      ],
      "metadata": {
        "id": "i1Yr2BXHhCMB"
      },
      "execution_count": null,
      "outputs": []
    },
    {
      "cell_type": "code",
      "source": [
        "What is Operator Precedence?\n",
        "Operator precedence refers to the rules that determine the order in which operators are evaluated in an expression."
      ],
      "metadata": {
        "id": "xhUXZXcEhRy9"
      },
      "execution_count": null,
      "outputs": []
    },
    {
      "cell_type": "markdown",
      "source": [
        "\n",
        "In Python, operators have precedence rules that determine the order in which they are evaluated. Here are the rules for operator precedence in Python, listed from highest to lowest precedence:\n",
        "\n",
        "Parentheses: Expressions enclosed in parentheses are evaluated first.\n",
        "\n",
        "Exponentiation (**): Exponentiation operators are evaluated next.\n",
        "\n",
        "Unary operators (+, -, ~): Unary operators are applied to their operands after parentheses and exponentiation.\n",
        "\n",
        "Multiplication, Division, and Modulo (*, /, //, %): Multiplication, division, and modulo operators are evaluated next. They have the same precedence and are evaluated from left to right.\n",
        "\n",
        "Addition and Subtraction (+, -): Addition and subtraction operators are evaluated next. They have the same precedence and are evaluated from left to right.\n",
        "\n",
        "Bitwise Shift (<<, >>): Bitwise shift operators have lower precedence than addition and subtraction.\n",
        "\n",
        "Bitwise AND (&): Bitwise AND operator has lower precedence than bitwise shift.\n",
        "\n",
        "Bitwise XOR (^): Bitwise XOR operator has lower precedence than bitwise AND.\n",
        "\n",
        "Bitwise OR (|): Bitwise OR operator has lower precedence than bitwise XOR.\n",
        "\n",
        "Comparison Operators (<, <=, >, >=, ==, !=): Comparison operators have lower precedence than bitwise operators.\n",
        "\n",
        "Membership Operators (in, not in): Membership operators have lower precedence than comparison operators.\n",
        "\n",
        "Identity Operators (is, is not): Identity operators have lower precedence than membership operators.\n",
        "\n",
        "Logical NOT (not): Logical NOT operator has lower precedence than identity operators.\n",
        "\n",
        "Logical AND (and): Logical AND operator has lower precedence than logical NOT.\n",
        "\n",
        "Logical OR (or): Logical OR operator has the lowest precedence among all operators."
      ],
      "metadata": {
        "id": "TZ8r3xqwCLEu"
      }
    },
    {
      "cell_type": "markdown",
      "source": [],
      "metadata": {
        "id": "LUfTDI72hh04"
      }
    }
  ]
}