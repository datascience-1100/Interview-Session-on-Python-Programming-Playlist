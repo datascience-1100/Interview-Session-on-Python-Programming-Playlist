{
 "cells": [
  {
   "cell_type": "markdown",
   "id": "440f79d4",
   "metadata": {},
   "source": [
    "Basic Interview Questions and Answers in Python"
   ]
  },
  {
   "cell_type": "markdown",
   "id": "debf6704",
   "metadata": {},
   "source": [
    "1. What is sep parameter in print function in Python?"
   ]
  },
  {
   "cell_type": "code",
   "execution_count": 5,
   "id": "c5ed2448",
   "metadata": {},
   "outputs": [
    {
     "name": "stdout",
     "output_type": "stream",
     "text": [
      "Data Science/30/30.5/True\n"
     ]
    }
   ],
   "source": [
    "print(\"Data Science\", 30, 30.5, True, sep ='/')"
   ]
  },
  {
   "cell_type": "markdown",
   "id": "c2d4d0f6",
   "metadata": {},
   "source": [
    "What is end parameter in print function in Python?"
   ]
  },
  {
   "cell_type": "code",
   "execution_count": 9,
   "id": "c22936e9",
   "metadata": {},
   "outputs": [
    {
     "name": "stdout",
     "output_type": "stream",
     "text": [
      "I love,Data Science\n"
     ]
    }
   ],
   "source": [
    "print('I love', end= ',')\n",
    "print('Data Science')\n",
    "#I love-Data Science"
   ]
  },
  {
   "cell_type": "markdown",
   "id": "4f3cd3bd",
   "metadata": {},
   "source": [
    "Difference between Dynamic typing and Static typing"
   ]
  },
  {
   "cell_type": "code",
   "execution_count": null,
   "id": "c0c394a0",
   "metadata": {},
   "outputs": [],
   "source": [
    "int a=5\n",
    "float a=6.0\n",
    "\n",
    "a=5\n",
    "b=9.7\n",
    "c='dfs'"
   ]
  },
  {
   "cell_type": "markdown",
   "id": "4ae23fcd",
   "metadata": {},
   "source": [
    "What is Dynamic binding?"
   ]
  },
  {
   "cell_type": "code",
   "execution_count": 10,
   "id": "ca403b27",
   "metadata": {},
   "outputs": [
    {
     "name": "stdout",
     "output_type": "stream",
     "text": [
      "5\n",
      "Python\n"
     ]
    }
   ],
   "source": [
    "#any data type can be converted to other data type\n",
    "a=5\n",
    "print(a)\n",
    "a='Python'\n",
    "print(a)"
   ]
  },
  {
   "cell_type": "markdown",
   "id": "d9ebd5dd",
   "metadata": {},
   "source": [
    " What are the data types in Python?"
   ]
  },
  {
   "cell_type": "markdown",
   "id": "ddbb0174",
   "metadata": {},
   "source": [
    "1. int \n",
    "2. float \n",
    "3. String\n",
    "4. Boolean\n",
    "5. Complex\n",
    "6. List- a=[3, 4,6,7]\n",
    "7. Tuple- a=(5,6,7,8)\n",
    "8. Set- a{2,3,4,5}\n",
    "9. Dictionary {name: \"Rani\", Age =\"25\"}\n"
   ]
  },
  {
   "cell_type": "markdown",
   "id": "078383ce",
   "metadata": {},
   "source": [
    "How to allocate a single value to many variables?"
   ]
  },
  {
   "cell_type": "code",
   "execution_count": 13,
   "id": "3c97bf4b",
   "metadata": {},
   "outputs": [
    {
     "name": "stdout",
     "output_type": "stream",
     "text": [
      "5\n",
      "5\n",
      "5 5 5\n"
     ]
    }
   ],
   "source": [
    "a=b=c=d=e=5\n",
    "print(a)\n",
    "print (b)\n",
    "print(c,d,e)"
   ]
  },
  {
   "cell_type": "markdown",
   "id": "48ea7c90",
   "metadata": {},
   "source": [
    "What is a comment/docstring??"
   ]
  },
  {
   "cell_type": "code",
   "execution_count": null,
   "id": "f0345a1c",
   "metadata": {},
   "outputs": [],
   "source": [
    "#Allocating a single value to many variables\n",
    "'''I am writing a program to print the values of the variables'''\n",
    "\"\"\"I love programming\"\"\"\n",
    "a=b=c=d=e=5\n",
    "print(a)\n",
    "print (b)\n",
    "print(c,d,e)"
   ]
  },
  {
   "cell_type": "markdown",
   "id": "a578999c",
   "metadata": {},
   "source": [
    "What are Python Keywords?"
   ]
  },
  {
   "cell_type": "markdown",
   "id": "1744bb8a",
   "metadata": {},
   "source": [
    "if\n",
    "for else\n",
    "print=5\n",
    "print(print)"
   ]
  },
  {
   "cell_type": "code",
   "execution_count": 15,
   "id": "115c1d58",
   "metadata": {},
   "outputs": [
    {
     "name": "stdout",
     "output_type": "stream",
     "text": [
      "None\n"
     ]
    }
   ],
   "source": [
    "#What will be the output?\n",
    "a=None \n",
    "print(a)\n",
    "a,b,c"
   ]
  },
  {
   "cell_type": "code",
   "execution_count": null,
   "id": "89544df8",
   "metadata": {},
   "outputs": [],
   "source": []
  },
  {
   "cell_type": "code",
   "execution_count": 18,
   "id": "ce54f2a9",
   "metadata": {},
   "outputs": [
    {
     "name": "stdout",
     "output_type": "stream",
     "text": [
      "5 7\n"
     ]
    }
   ],
   "source": [
    "#What will be the output?\n",
    "a=True+4\n",
    "b=False+7\n",
    "print(a, b)"
   ]
  },
  {
   "cell_type": "code",
   "execution_count": null,
   "id": "b92cc429",
   "metadata": {},
   "outputs": [],
   "source": []
  }
 ],
 "metadata": {
  "kernelspec": {
   "display_name": "Python 3 (ipykernel)",
   "language": "python",
   "name": "python3"
  },
  "language_info": {
   "codemirror_mode": {
    "name": "ipython",
    "version": 3
   },
   "file_extension": ".py",
   "mimetype": "text/x-python",
   "name": "python",
   "nbconvert_exporter": "python",
   "pygments_lexer": "ipython3",
   "version": "3.11.5"
  }
 },
 "nbformat": 4,
 "nbformat_minor": 5
}
