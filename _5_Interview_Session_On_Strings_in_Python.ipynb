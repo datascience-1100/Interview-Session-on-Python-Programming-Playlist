{
  "nbformat": 4,
  "nbformat_minor": 0,
  "metadata": {
    "colab": {
      "provenance": [],
      "authorship_tag": "ABX9TyOyj+DhPMAQLY0PPU9RJ2f7",
      "include_colab_link": true
    },
    "kernelspec": {
      "name": "python3",
      "display_name": "Python 3"
    },
    "language_info": {
      "name": "python"
    }
  },
  "cells": [
    {
      "cell_type": "markdown",
      "metadata": {
        "id": "view-in-github",
        "colab_type": "text"
      },
      "source": [
        "<a href=\"https://colab.research.google.com/github/datascience-1100/Interview-Session-on-Python-Programming-Playlist/blob/main/_5_Interview_Session_On_Strings_in_Python.ipynb\" target=\"_parent\"><img src=\"https://colab.research.google.com/assets/colab-badge.svg\" alt=\"Open In Colab\"/></a>"
      ]
    },
    {
      "cell_type": "markdown",
      "source": [
        "Write a program to check whether a string is a palindrome or not."
      ],
      "metadata": {
        "id": "6gRbWK_jCLg4"
      }
    },
    {
      "cell_type": "code",
      "execution_count": 7,
      "metadata": {
        "id": "Vk9e7RL4O7MG",
        "colab": {
          "base_uri": "https://localhost:8080/"
        },
        "outputId": "d3b68ece-e25e-4d58-9e54-3bd3ef8d0064"
      },
      "outputs": [
        {
          "output_type": "stream",
          "name": "stdout",
          "text": [
            "Enter a string to check if it's a palindrome:kayak\n",
            "The given string is a palindrome.\n"
          ]
        }
      ],
      "source": [
        "#string= 'Madam'\n",
        "def is_palindrome(s):\n",
        "    s = s.replace(\" \", \"\").lower()\n",
        "    return s == s[::-1]\n",
        "\n",
        "input_string = input(\"Enter a string to check if it's a palindrome:\")\n",
        "\n",
        "if is_palindrome(input_string):\n",
        "    print(\"The given string is a palindrome.\")\n",
        "else:\n",
        "    print(\"The given string is not a palindrome.\")\n"
      ]
    },
    {
      "cell_type": "markdown",
      "source": [
        "2. Write a program to count the number of vowels in a given string"
      ],
      "metadata": {
        "id": "fIOMzKIePGli"
      }
    },
    {
      "cell_type": "code",
      "source": [
        "def count_vowels(s):\n",
        "    vowels = 'aeiouAEIOU'\n",
        "    count = 0\n",
        "\n",
        "    for char in s:\n",
        "        if char in vowels:\n",
        "            count += 1\n",
        "\n",
        "    return count\n",
        "\n",
        "input_string = input(\"Enter a string to count the number of vowels: \")\n",
        "#Madam\n",
        "\n",
        "num_vowels = count_vowels(input_string)\n",
        "print(f\"The number of vowels in the given string is: {num_vowels}\")\n"
      ],
      "metadata": {
        "id": "dPCamnMz0eoc"
      },
      "execution_count": null,
      "outputs": []
    },
    {
      "cell_type": "markdown",
      "source": [
        "3. Given a list of words, concatenate them into a single string separated by spaces"
      ],
      "metadata": {
        "id": "dZ0CXBuKPMy8"
      }
    },
    {
      "cell_type": "code",
      "source": [
        "def concatenate_words(word_list):\n",
        "    concatenated_string = ' '.join(word_list)\n",
        "    return concatenated_string\n",
        "\n",
        "words_list = ['Hello', 'world', 'this', 'is', 'a', 'test']\n",
        "\n",
        "result_string = concatenate_words(words_list)\n",
        "\n",
        "print(\"Concatenated string:\", result_string)"
      ],
      "metadata": {
        "id": "eD0INRqE2L2k",
        "colab": {
          "base_uri": "https://localhost:8080/"
        },
        "outputId": "56c86b3c-b618-402d-ed4e-63ef2dbb3b30"
      },
      "execution_count": 9,
      "outputs": [
        {
          "output_type": "stream",
          "name": "stdout",
          "text": [
            "Concatenated string: Hello world this is a test\n"
          ]
        }
      ]
    },
    {
      "cell_type": "markdown",
      "source": [
        "4. Create a function to reverse a give string."
      ],
      "metadata": {
        "id": "LwzE7wjPPcw9"
      }
    },
    {
      "cell_type": "code",
      "source": [
        "def reverse_string(s):\n",
        "    reversed_str = s[::-1]\n",
        "    return reversed_str\n",
        "\n",
        "input_string = input(\"Enter a string to reverse: \")\n",
        "\n",
        "reversed_string = reverse_string(input_string)\n",
        "print(\"Reversed string:\", reversed_string)\n"
      ],
      "metadata": {
        "id": "alHkw7ph6AAP"
      },
      "execution_count": null,
      "outputs": []
    },
    {
      "cell_type": "markdown",
      "source": [
        "5. Write a program that takes sentence as input and counts the number of words in it"
      ],
      "metadata": {
        "id": "AN40Xu2UPghp"
      }
    },
    {
      "cell_type": "code",
      "source": [
        "def count_words(sentence):\n",
        "    words = sentence.split()\n",
        "    return len(words)\n",
        "\n",
        "input_sentence = input(\"Enter a sentence to count the number of words: \")\n",
        "\n",
        "num_words = count_words(input_sentence)\n",
        "print(f\"The number of words in the given sentence is: {num_words}\")\n"
      ],
      "metadata": {
        "id": "-0vqRA4s6NhL"
      },
      "execution_count": null,
      "outputs": []
    },
    {
      "cell_type": "markdown",
      "source": [
        "7. Create a function that takes a sentence as input and return the sentence in reverse order"
      ],
      "metadata": {
        "id": "I-3WmCnlQNUl"
      }
    },
    {
      "cell_type": "code",
      "source": [
        "def reverse_sentence(sentence):\n",
        "    words = sentence.split()\n",
        "    reversed_words = words[::-1]\n",
        "    reversed_sentence = ' '.join(reversed_words)\n",
        "    return reversed_sentence\n",
        "\n",
        "input_sentence = input(\"Enter a sentence to reverse: \")\n",
        "\n",
        "reversed_output = reverse_sentence(input_sentence)\n",
        "print(\"Reversed sentence:\", reversed_output)"
      ],
      "metadata": {
        "colab": {
          "base_uri": "https://localhost:8080/"
        },
        "id": "zgO06TQo8gKn",
        "outputId": "caa763b3-281b-4710-f69e-2f2cdaa18638"
      },
      "execution_count": 10,
      "outputs": [
        {
          "output_type": "stream",
          "name": "stdout",
          "text": [
            "Enter a sentence to reverse: I love python\n",
            "Reversed sentence: python love I\n"
          ]
        }
      ]
    },
    {
      "cell_type": "markdown",
      "source": [
        "8. Given a list of names, count the number of names that start with a vowel\n",
        "\n",
        "\n"
      ],
      "metadata": {
        "id": "Lb6pzwNZQWRd"
      }
    },
    {
      "cell_type": "code",
      "source": [
        "def count_names_starting_with_vowel(names_list):\n",
        "    vowels = 'aeiouAEIOU'\n",
        "    count = 0\n",
        "\n",
        "    for name in names_list:\n",
        "        if name[0] in vowels:\n",
        "            count += 1\n",
        "\n",
        "    return count\n",
        "\n",
        "names = ['Alice', 'Bob', 'Eve', 'Olivia', 'John', 'Anna', 'Irene']\n",
        "\n",
        "num_names_starting_with_vowel = count_names_starting_with_vowel(names)\n",
        "\n",
        "print(f\"The number of names starting with a vowel is: {num_names_starting_with_vowel}\")\n"
      ],
      "metadata": {
        "id": "50zKczPO8-t9"
      },
      "execution_count": null,
      "outputs": []
    },
    {
      "cell_type": "markdown",
      "source": [],
      "metadata": {
        "id": "hBtxnrACQi3w"
      }
    }
  ]
}